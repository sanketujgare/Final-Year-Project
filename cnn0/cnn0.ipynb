{
 "cells": [
  {
   "cell_type": "markdown",
   "metadata": {},
   "source": [
    "<h1>Note:</h1>\n",
    "Some commented parts are required only if we run it on drive but make sure the datasets are on same dir\n",
    "    "
   ]
  },
  {
   "cell_type": "code",
   "execution_count": 18,
   "metadata": {
    "colab": {
     "base_uri": "https://localhost:8080/",
     "height": 292
    },
    "colab_type": "code",
    "id": "4M27-BXN5AB9",
    "outputId": "8da1706c-e798-45b5-cfda-053af14e0243"
   },
   "outputs": [],
   "source": [
    "#import libraries\n",
    "#!pip3 install keras==2.1.3\n",
    "import numpy as np\n",
    "import keras\n",
    "from keras.models import Sequential\n",
    "from keras.layers import Dense, Dropout, Flatten\n",
    "from keras.layers import Conv2D, MaxPooling2D\n",
    "from keras.optimizers import SGD\n",
    "from keras.models import model_from_json\n",
    "from keras.models import load_model\n",
    "import matplotlib.pyplot as plt\n",
    "import cv2\n",
    "import time\n",
    "plt.style.use('seaborn-whitegrid')\n",
    "\n"
   ]
  },
  {
   "cell_type": "code",
   "execution_count": 0,
   "metadata": {
    "colab": {
     "base_uri": "https://localhost:8080/",
     "height": 51
    },
    "colab_type": "code",
    "id": "juIlHNj55ncF",
    "outputId": "dbbcb14e-d292-49c4-be02-7f07915fc5b5"
   },
   "outputs": [
    {
     "name": "stdout",
     "output_type": "stream",
     "text": [
      "\u001b[?25l\r",
      "\u001b[K    1% |▎                               | 10kB 21.1MB/s eta 0:00:01\r",
      "\u001b[K    2% |▋                               | 20kB 2.2MB/s eta 0:00:01\r",
      "\u001b[K    3% |█                               | 30kB 3.2MB/s eta 0:00:01\r",
      "\u001b[K    4% |█▎                              | 40kB 2.1MB/s eta 0:00:01\r",
      "\u001b[K    5% |█▋                              | 51kB 2.6MB/s eta 0:00:01\r",
      "\u001b[K    6% |██                              | 61kB 3.1MB/s eta 0:00:01\r",
      "\u001b[K    7% |██▎                             | 71kB 3.5MB/s eta 0:00:01\r",
      "\u001b[K    8% |██▋                             | 81kB 4.0MB/s eta 0:00:01\r",
      "\u001b[K    9% |███                             | 92kB 4.4MB/s eta 0:00:01\r",
      "\u001b[K    10% |███▎                            | 102kB 3.4MB/s eta 0:00:01\r",
      "\u001b[K    11% |███▋                            | 112kB 3.4MB/s eta 0:00:01\r",
      "\u001b[K    12% |████                            | 122kB 4.8MB/s eta 0:00:01\r",
      "\u001b[K    13% |████▎                           | 133kB 4.8MB/s eta 0:00:01\r",
      "\u001b[K    14% |████▋                           | 143kB 8.9MB/s eta 0:00:01\r",
      "\u001b[K    15% |█████                           | 153kB 8.9MB/s eta 0:00:01\r",
      "\u001b[K    16% |█████▎                          | 163kB 8.8MB/s eta 0:00:01\r",
      "\u001b[K    17% |█████▋                          | 174kB 8.8MB/s eta 0:00:01\r",
      "\u001b[K    18% |██████                          | 184kB 8.9MB/s eta 0:00:01\r",
      "\u001b[K    19% |██████▎                         | 194kB 8.9MB/s eta 0:00:01\r",
      "\u001b[K    20% |██████▋                         | 204kB 33.8MB/s eta 0:00:01\r",
      "\u001b[K    21% |███████                         | 215kB 10.5MB/s eta 0:00:01\r",
      "\u001b[K    22% |███████▎                        | 225kB 10.6MB/s eta 0:00:01\r",
      "\u001b[K    23% |███████▋                        | 235kB 10.6MB/s eta 0:00:01\r",
      "\u001b[K    24% |████████                        | 245kB 10.4MB/s eta 0:00:01\r",
      "\u001b[K    25% |████████▎                       | 256kB 10.5MB/s eta 0:00:01\r",
      "\u001b[K    26% |████████▋                       | 266kB 10.4MB/s eta 0:00:01\r",
      "\u001b[K    27% |█████████                       | 276kB 10.5MB/s eta 0:00:01\r",
      "\u001b[K    29% |█████████▎                      | 286kB 10.5MB/s eta 0:00:01\r",
      "\u001b[K    30% |█████████▋                      | 296kB 10.5MB/s eta 0:00:01\r",
      "\u001b[K    31% |██████████                      | 307kB 11.0MB/s eta 0:00:01\r",
      "\u001b[K    32% |██████████▎                     | 317kB 41.3MB/s eta 0:00:01\r",
      "\u001b[K    33% |██████████▋                     | 327kB 40.7MB/s eta 0:00:01\r",
      "\u001b[K    34% |███████████                     | 337kB 42.2MB/s eta 0:00:01\r",
      "\u001b[K    35% |███████████▎                    | 348kB 41.8MB/s eta 0:00:01\r",
      "\u001b[K    36% |███████████▋                    | 358kB 41.1MB/s eta 0:00:01\r",
      "\u001b[K    37% |████████████                    | 368kB 43.8MB/s eta 0:00:01\r",
      "\u001b[K    38% |████████████▎                   | 378kB 43.3MB/s eta 0:00:01\r",
      "\u001b[K    39% |████████████▋                   | 389kB 43.6MB/s eta 0:00:01\r",
      "\u001b[K    40% |█████████████                   | 399kB 12.6MB/s eta 0:00:01\r",
      "\u001b[K    41% |█████████████▎                  | 409kB 12.5MB/s eta 0:00:01\r",
      "\u001b[K    42% |█████████████▋                  | 419kB 12.5MB/s eta 0:00:01\r",
      "\u001b[K    43% |██████████████                  | 430kB 12.4MB/s eta 0:00:01\r",
      "\u001b[K    44% |██████████████▎                 | 440kB 12.0MB/s eta 0:00:01\r",
      "\u001b[K    45% |██████████████▋                 | 450kB 12.1MB/s eta 0:00:01\r",
      "\u001b[K    46% |███████████████                 | 460kB 12.1MB/s eta 0:00:01\r",
      "\u001b[K    47% |███████████████▎                | 471kB 12.2MB/s eta 0:00:01\r",
      "\u001b[K    48% |███████████████▋                | 481kB 12.2MB/s eta 0:00:01\r",
      "\u001b[K    49% |████████████████                | 491kB 12.2MB/s eta 0:00:01\r",
      "\u001b[K    50% |████████████████▎               | 501kB 38.9MB/s eta 0:00:01\r",
      "\u001b[K    51% |████████████████▋               | 512kB 36.8MB/s eta 0:00:01\r",
      "\u001b[K    52% |█████████████████               | 522kB 38.3MB/s eta 0:00:01\r",
      "\u001b[K    53% |█████████████████▎              | 532kB 39.6MB/s eta 0:00:01\r",
      "\u001b[K    54% |█████████████████▋              | 542kB 43.4MB/s eta 0:00:01\r",
      "\u001b[K    55% |██████████████████              | 552kB 48.2MB/s eta 0:00:01\r",
      "\u001b[K    57% |██████████████████▎             | 563kB 49.4MB/s eta 0:00:01\r",
      "\u001b[K    58% |██████████████████▋             | 573kB 48.7MB/s eta 0:00:01\r",
      "\u001b[K    59% |███████████████████             | 583kB 47.9MB/s eta 0:00:01\r",
      "\u001b[K    60% |███████████████████▎            | 593kB 47.2MB/s eta 0:00:01\r",
      "\u001b[K    61% |███████████████████▋            | 604kB 47.6MB/s eta 0:00:01\r",
      "\u001b[K    62% |████████████████████            | 614kB 51.8MB/s eta 0:00:01\r",
      "\u001b[K    63% |████████████████████▎           | 624kB 51.4MB/s eta 0:00:01\r",
      "\u001b[K    64% |████████████████████▋           | 634kB 51.5MB/s eta 0:00:01\r",
      "\u001b[K    65% |█████████████████████           | 645kB 50.6MB/s eta 0:00:01\r",
      "\u001b[K    66% |█████████████████████▎          | 655kB 49.0MB/s eta 0:00:01\r",
      "\u001b[K    67% |█████████████████████▋          | 665kB 41.1MB/s eta 0:00:01\r",
      "\u001b[K    68% |██████████████████████          | 675kB 41.5MB/s eta 0:00:01\r",
      "\u001b[K    69% |██████████████████████▎         | 686kB 42.6MB/s eta 0:00:01\r",
      "\u001b[K    70% |██████████████████████▋         | 696kB 43.6MB/s eta 0:00:01\r",
      "\u001b[K    71% |███████████████████████         | 706kB 18.3MB/s eta 0:00:01\r",
      "\u001b[K    72% |███████████████████████▎        | 716kB 18.2MB/s eta 0:00:01\r",
      "\u001b[K    73% |███████████████████████▋        | 727kB 18.0MB/s eta 0:00:01\r",
      "\u001b[K    74% |████████████████████████        | 737kB 17.8MB/s eta 0:00:01\r",
      "\u001b[K    75% |████████████████████████▎       | 747kB 17.9MB/s eta 0:00:01\r",
      "\u001b[K    76% |████████████████████████▋       | 757kB 18.0MB/s eta 0:00:01\r",
      "\u001b[K    77% |████████████████████████▉       | 768kB 19.5MB/s eta 0:00:01\r",
      "\u001b[K    78% |█████████████████████████▏      | 778kB 19.4MB/s eta 0:00:01\r",
      "\u001b[K    79% |█████████████████████████▌      | 788kB 19.2MB/s eta 0:00:01\r",
      "\u001b[K    80% |█████████████████████████▉      | 798kB 18.9MB/s eta 0:00:01\r",
      "\u001b[K    81% |██████████████████████████▏     | 808kB 46.9MB/s eta 0:00:01\r",
      "\u001b[K    82% |██████████████████████████▌     | 819kB 47.2MB/s eta 0:00:01\r",
      "\u001b[K    83% |██████████████████████████▉     | 829kB 49.0MB/s eta 0:00:01\r",
      "\u001b[K    85% |███████████████████████████▏    | 839kB 50.5MB/s eta 0:00:01\r",
      "\u001b[K    86% |███████████████████████████▌    | 849kB 50.4MB/s eta 0:00:01\r",
      "\u001b[K    87% |███████████████████████████▉    | 860kB 46.8MB/s eta 0:00:01\r",
      "\u001b[K    88% |████████████████████████████▏   | 870kB 46.3MB/s eta 0:00:01\r",
      "\u001b[K    89% |████████████████████████████▌   | 880kB 46.1MB/s eta 0:00:01\r",
      "\u001b[K    90% |████████████████████████████▉   | 890kB 45.3MB/s eta 0:00:01\r",
      "\u001b[K    91% |█████████████████████████████▏  | 901kB 45.9MB/s eta 0:00:01\r",
      "\u001b[K    92% |█████████████████████████████▌  | 911kB 43.8MB/s eta 0:00:01\r",
      "\u001b[K    93% |█████████████████████████████▉  | 921kB 43.6MB/s eta 0:00:01\r",
      "\u001b[K    94% |██████████████████████████████▏ | 931kB 43.4MB/s eta 0:00:01\r",
      "\u001b[K    95% |██████████████████████████████▌ | 942kB 43.3MB/s eta 0:00:01\r",
      "\u001b[K    96% |██████████████████████████████▉ | 952kB 42.0MB/s eta 0:00:01\r",
      "\u001b[K    97% |███████████████████████████████▏| 962kB 45.1MB/s eta 0:00:01\r",
      "\u001b[K    98% |███████████████████████████████▌| 972kB 45.0MB/s eta 0:00:01\r",
      "\u001b[K    99% |███████████████████████████████▉| 983kB 44.1MB/s eta 0:00:01\r",
      "\u001b[K    100% |████████████████████████████████| 993kB 18.4MB/s \n",
      "\u001b[?25h  Building wheel for PyDrive (setup.py) ... \u001b[?25ldone\n",
      "\u001b[?25h"
     ]
    }
   ],
   "source": [
    "\"\"\"\n",
    "# Code to read csv file into Colaboratory:\n",
    "!pip install -U -q PyDrive\n",
    "from pydrive.auth import GoogleAuth\n",
    "\n",
    "from pydrive.drive import GoogleDrive\n",
    "from google.colab import auth\n",
    "from oauth2client.client import GoogleCredentials\n",
    "# Authenticate and create the PyDrive client.\n",
    "auth.authenticate_user()\n",
    "gauth = GoogleAuth()\n",
    "gauth.credentials = GoogleCredentials.get_application_default()\n",
    "drive = GoogleDrive(gauth)\n",
    "\"\"\""
   ]
  },
  {
   "cell_type": "code",
   "execution_count": 0,
   "metadata": {
    "colab": {},
    "colab_type": "code",
    "id": "W4QnHFg45t4h"
   },
   "outputs": [],
   "source": [
    "\"\"\"\n",
    "train_link = 'https://drive.google.com/open?id=104DhX-7q-6gVxM6I7EB8C5XTF0YQ5njr'\n",
    "fluff, id = train_link.split('=')\n",
    "downloaded = drive.CreateFile({'id':id}) \n",
    "downloaded.GetContentFile('train.csv') \n",
    "\n",
    "test_link = 'https://drive.google.com/open?id=1zZTF2b6p8aJoAaPGSrvd04Y5f-AP1VPD'\n",
    "fluff, id = test_link.split('=')\n",
    "downloaded = drive.CreateFile({'id':id})\n",
    "downloaded.GetContentFile('test.csv')\n",
    "\"\"\""
   ]
  },
  {
   "cell_type": "code",
   "execution_count": 2,
   "metadata": {
    "colab": {},
    "colab_type": "code",
    "id": "1zmWivvH5VdA"
   },
   "outputs": [],
   "source": [
    "\n",
    "def current_example(example_number, data_set):\n",
    "    current_datafile = open(data_set + '.csv', 'r')\n",
    "    current_dataset = current_datafile.readlines()\n",
    "    current_datafile.close()\n",
    "    \n",
    "    inputs = np.zeros((len(example_number), 32, 32, 1))\n",
    "    targets = np.zeros((len(example_number), 1))\n",
    "    index = 0\n",
    "    \n",
    "    for each_number in example_number:\n",
    "        each_set = current_dataset[each_number]\n",
    "        all_values = each_set.split(',')\n",
    "\n",
    "        #the first value is the label\n",
    "        correct_label = int(all_values[0])\n",
    "\n",
    "        #Normalize the pixel values in range of 0.01 - 1 \n",
    "        inputs[index] = np.asarray(all_values[1:], dtype = np.float32).reshape(32, 32, 1) / 255  \n",
    "        targets[index] = int(all_values[0])\n",
    "        index += 1\n",
    "            \n",
    "    return(inputs, targets)\n"
   ]
  },
  {
   "cell_type": "code",
   "execution_count": 2,
   "metadata": {
    "colab": {},
    "colab_type": "code",
    "id": "zZik2tKw5YiX"
   },
   "outputs": [
    {
     "ename": "NameError",
     "evalue": "name 'np' is not defined",
     "output_type": "error",
     "traceback": [
      "\u001b[1;31m---------------------------------------------------------------------------\u001b[0m",
      "\u001b[1;31mNameError\u001b[0m                                 Traceback (most recent call last)",
      "Cell \u001b[1;32mIn [2], line 3\u001b[0m\n\u001b[0;32m      1\u001b[0m \u001b[38;5;66;03m#prepare training and test data\u001b[39;00m\n\u001b[0;32m      2\u001b[0m \u001b[38;5;66;03m#num_exmp = np.random.randint(0, 78200, 78200, dtype = np.int32)\u001b[39;00m\n\u001b[1;32m----> 3\u001b[0m num_exmp \u001b[38;5;241m=\u001b[39m \u001b[43mnp\u001b[49m\u001b[38;5;241m.\u001b[39mlinspace(\u001b[38;5;241m0\u001b[39m, \u001b[38;5;241m78199\u001b[39m, \u001b[38;5;241m78200\u001b[39m, dtype \u001b[38;5;241m=\u001b[39m np\u001b[38;5;241m.\u001b[39mint32)\n\u001b[0;32m      4\u001b[0m np\u001b[38;5;241m.\u001b[39mrandom\u001b[38;5;241m.\u001b[39mshuffle(num_exmp)\n\u001b[0;32m      5\u001b[0m (x_train, y_train) \u001b[38;5;241m=\u001b[39m current_example(num_exmp, \u001b[38;5;124m'\u001b[39m\u001b[38;5;124mtrain\u001b[39m\u001b[38;5;124m'\u001b[39m) \n",
      "\u001b[1;31mNameError\u001b[0m: name 'np' is not defined"
     ]
    }
   ],
   "source": [
    "#prepare training and test data\n",
    "#num_exmp = np.random.randint(0, 78200, 78200, dtype = np.int32)\n",
    "num_exmp = np.linspace(0, 78199, 78200, dtype = np.int32)\n",
    "np.random.shuffle(num_exmp)\n",
    "(x_train, y_train) = current_example(num_exmp, 'train') \n",
    "y_train = keras.utils.to_categorical(y_train, num_classes=46)\n",
    "\n",
    "num_exmp = np.linspace(0, 13799, 13800, dtype = np.int32)\n",
    "x_test, y_test = current_example(num_exmp, 'test')\n",
    "y_test = keras.utils.to_categorical(y_test, num_classes=46)\n",
    "\n"
   ]
  },
  {
   "cell_type": "code",
   "execution_count": 19,
   "metadata": {
    "colab": {
     "base_uri": "https://localhost:8080/",
     "height": 666
    },
    "colab_type": "code",
    "id": "7wY_KnpI5U6P",
    "outputId": "4bb61ad3-6122-49d3-bd56-57aa5cad3539"
   },
   "outputs": [
    {
     "name": "stdout",
     "output_type": "stream",
     "text": [
      "Model: \"sequential\"\n",
      "_________________________________________________________________\n",
      " Layer (type)                Output Shape              Param #   \n",
      "=================================================================\n",
      " conv2d (Conv2D)             (None, 30, 30, 32)        320       \n",
      "                                                                 \n",
      " conv2d_1 (Conv2D)           (None, 28, 28, 32)        9248      \n",
      "                                                                 \n",
      " max_pooling2d (MaxPooling2D  (None, 14, 14, 32)       0         \n",
      " )                                                               \n",
      "                                                                 \n",
      " dropout (Dropout)           (None, 14, 14, 32)        0         \n",
      "                                                                 \n",
      " conv2d_2 (Conv2D)           (None, 12, 12, 64)        18496     \n",
      "                                                                 \n",
      " conv2d_3 (Conv2D)           (None, 10, 10, 64)        36928     \n",
      "                                                                 \n",
      " max_pooling2d_1 (MaxPooling  (None, 5, 5, 64)         0         \n",
      " 2D)                                                             \n",
      "                                                                 \n",
      " dropout_1 (Dropout)         (None, 5, 5, 64)          0         \n",
      "                                                                 \n",
      " flatten (Flatten)           (None, 1600)              0         \n",
      "                                                                 \n",
      " dense (Dense)               (None, 256)               409856    \n",
      "                                                                 \n",
      " dropout_2 (Dropout)         (None, 256)               0         \n",
      "                                                                 \n",
      " dense_1 (Dense)             (None, 46)                11822     \n",
      "                                                                 \n",
      "=================================================================\n",
      "Total params: 486,670\n",
      "Trainable params: 486,670\n",
      "Non-trainable params: 0\n",
      "_________________________________________________________________\n"
     ]
    }
   ],
   "source": [
    "\n",
    "model = Sequential()\n",
    "model.add(Conv2D(32, (3, 3), activation = 'relu', input_shape = (32, 32, 1), data_format = 'channels_last'))\n",
    "model.add(Conv2D(32, (3, 3), activation='relu'))\n",
    "model.add(MaxPooling2D(pool_size=(2, 2)))\n",
    "model.add(Dropout(0.25))\n",
    "\n",
    "model.add(Conv2D(64, (3, 3), activation='relu'))\n",
    "model.add(Conv2D(64, (3, 3), activation='relu'))\n",
    "model.add(MaxPooling2D(pool_size=(2, 2)))\n",
    "model.add(Dropout(0.25))\n",
    "\n",
    "model.add(Flatten())\n",
    "model.add(Dense(256, activation='relu'))\n",
    "model.add(Dropout(0.5))\n",
    "model.add(Dense(46, activation='softmax'))\n",
    "\n",
    "model.summary()"
   ]
  },
  {
   "cell_type": "code",
   "execution_count": 0,
   "metadata": {
    "colab": {},
    "colab_type": "code",
    "id": "LscYSzJoe31t"
   },
   "outputs": [],
   "source": [
    "#Compile the model\n",
    "sgd = SGD(lr=0.01, decay=1e-6, momentum=0.9, nesterov=True)\n",
    "#use sgd if accuracy doesnt improves, last time sgd worked great 0.9907 on 30 epoch\n",
    "model.compile(loss='categorical_crossentropy', optimizer='adam', metrics=['accuracy'])\n"
   ]
  },
  {
   "cell_type": "code",
   "execution_count": 0,
   "metadata": {
    "colab": {
     "base_uri": "https://localhost:8080/",
     "height": 3573
    },
    "colab_type": "code",
    "id": "Xd_SqT9z5foR",
    "outputId": "6b976de9-4065-44c5-adc7-d989477a7f7f"
   },
   "outputs": [
    {
     "name": "stdout",
     "output_type": "stream",
     "text": [
      "WARNING:tensorflow:From /usr/local/lib/python3.6/dist-packages/tensorflow/python/ops/math_ops.py:3066: to_int32 (from tensorflow.python.ops.math_ops) is deprecated and will be removed in a future version.\n",
      "Instructions for updating:\n",
      "Use tf.cast instead.\n",
      "Train on 54740 samples, validate on 23460 samples\n",
      "Epoch 1/100\n",
      "54740/54740 [==============================] - 17s 319us/step - loss: 1.2116 - acc: 0.6613 - val_loss: 0.2492 - val_acc: 0.9282\n",
      "Epoch 2/100\n",
      "54740/54740 [==============================] - 13s 230us/step - loss: 0.3650 - acc: 0.8885 - val_loss: 0.1257 - val_acc: 0.9611\n",
      "Epoch 3/100\n",
      "54740/54740 [==============================] - 13s 231us/step - loss: 0.2455 - acc: 0.9243 - val_loss: 0.1000 - val_acc: 0.9685\n",
      "Epoch 4/100\n",
      "54740/54740 [==============================] - 13s 232us/step - loss: 0.1914 - acc: 0.9404 - val_loss: 0.0737 - val_acc: 0.9767\n",
      "Epoch 5/100\n",
      "54740/54740 [==============================] - 13s 231us/step - loss: 0.1585 - acc: 0.9493 - val_loss: 0.0706 - val_acc: 0.9775\n",
      "Epoch 6/100\n",
      "54740/54740 [==============================] - 13s 231us/step - loss: 0.1371 - acc: 0.9549 - val_loss: 0.0651 - val_acc: 0.9795\n",
      "Epoch 7/100\n",
      "54740/54740 [==============================] - 12s 228us/step - loss: 0.1240 - acc: 0.9609 - val_loss: 0.0611 - val_acc: 0.9818\n",
      "Epoch 8/100\n",
      "54740/54740 [==============================] - 13s 231us/step - loss: 0.1104 - acc: 0.9650 - val_loss: 0.0527 - val_acc: 0.9829\n",
      "Epoch 9/100\n",
      "54740/54740 [==============================] - 12s 227us/step - loss: 0.1026 - acc: 0.9670 - val_loss: 0.0509 - val_acc: 0.9852\n",
      "Epoch 10/100\n",
      "54740/54740 [==============================] - 12s 227us/step - loss: 0.0900 - acc: 0.9709 - val_loss: 0.0475 - val_acc: 0.9856\n",
      "Epoch 11/100\n",
      "54740/54740 [==============================] - 12s 227us/step - loss: 0.0816 - acc: 0.9727 - val_loss: 0.0476 - val_acc: 0.9865\n",
      "Epoch 12/100\n",
      "54740/54740 [==============================] - 13s 233us/step - loss: 0.0825 - acc: 0.9733 - val_loss: 0.0434 - val_acc: 0.9877\n",
      "Epoch 13/100\n",
      "54740/54740 [==============================] - 13s 228us/step - loss: 0.0765 - acc: 0.9756 - val_loss: 0.0406 - val_acc: 0.9875\n",
      "Epoch 14/100\n",
      "54740/54740 [==============================] - 13s 231us/step - loss: 0.0686 - acc: 0.9770 - val_loss: 0.0436 - val_acc: 0.9872\n",
      "Epoch 15/100\n",
      "54740/54740 [==============================] - 13s 231us/step - loss: 0.0683 - acc: 0.9776 - val_loss: 0.0423 - val_acc: 0.9882\n",
      "Epoch 16/100\n",
      "54740/54740 [==============================] - 13s 231us/step - loss: 0.0659 - acc: 0.9790 - val_loss: 0.0398 - val_acc: 0.9888\n",
      "Epoch 17/100\n",
      "54740/54740 [==============================] - 12s 228us/step - loss: 0.0599 - acc: 0.9805 - val_loss: 0.0389 - val_acc: 0.9882\n",
      "Epoch 18/100\n",
      "54740/54740 [==============================] - 13s 229us/step - loss: 0.0579 - acc: 0.9814 - val_loss: 0.0422 - val_acc: 0.9881\n",
      "Epoch 19/100\n",
      "54740/54740 [==============================] - 13s 228us/step - loss: 0.0571 - acc: 0.9812 - val_loss: 0.0395 - val_acc: 0.9897\n",
      "Epoch 20/100\n",
      "54740/54740 [==============================] - 13s 230us/step - loss: 0.0538 - acc: 0.9823 - val_loss: 0.0415 - val_acc: 0.9887\n",
      "Epoch 21/100\n",
      "54740/54740 [==============================] - 12s 227us/step - loss: 0.0535 - acc: 0.9833 - val_loss: 0.0386 - val_acc: 0.9894\n",
      "Epoch 22/100\n",
      "54740/54740 [==============================] - 12s 227us/step - loss: 0.0491 - acc: 0.9839 - val_loss: 0.0389 - val_acc: 0.9896\n",
      "Epoch 23/100\n",
      "54740/54740 [==============================] - 12s 227us/step - loss: 0.0453 - acc: 0.9853 - val_loss: 0.0413 - val_acc: 0.9881\n",
      "Epoch 24/100\n",
      "54740/54740 [==============================] - 12s 228us/step - loss: 0.0487 - acc: 0.9839 - val_loss: 0.0377 - val_acc: 0.9891\n",
      "Epoch 25/100\n",
      "54740/54740 [==============================] - 12s 228us/step - loss: 0.0472 - acc: 0.9852 - val_loss: 0.0377 - val_acc: 0.9901\n",
      "Epoch 26/100\n",
      "54740/54740 [==============================] - 12s 228us/step - loss: 0.0427 - acc: 0.9859 - val_loss: 0.0391 - val_acc: 0.9896\n",
      "Epoch 27/100\n",
      "54740/54740 [==============================] - 12s 228us/step - loss: 0.0435 - acc: 0.9853 - val_loss: 0.0417 - val_acc: 0.9886\n",
      "Epoch 28/100\n",
      "54740/54740 [==============================] - 12s 227us/step - loss: 0.0404 - acc: 0.9866 - val_loss: 0.0362 - val_acc: 0.9908\n",
      "Epoch 29/100\n",
      "54740/54740 [==============================] - 12s 228us/step - loss: 0.0415 - acc: 0.9867 - val_loss: 0.0432 - val_acc: 0.9889\n",
      "Epoch 30/100\n",
      "54740/54740 [==============================] - 13s 229us/step - loss: 0.0401 - acc: 0.9868 - val_loss: 0.0407 - val_acc: 0.9904\n",
      "Epoch 31/100\n",
      "54740/54740 [==============================] - 13s 231us/step - loss: 0.0403 - acc: 0.9866 - val_loss: 0.0368 - val_acc: 0.9907\n",
      "Epoch 32/100\n",
      "54740/54740 [==============================] - 13s 229us/step - loss: 0.0390 - acc: 0.9874 - val_loss: 0.0361 - val_acc: 0.9901\n",
      "Epoch 33/100\n",
      "54740/54740 [==============================] - 13s 231us/step - loss: 0.0363 - acc: 0.9879 - val_loss: 0.0369 - val_acc: 0.9906\n",
      "Epoch 34/100\n",
      "54740/54740 [==============================] - 13s 229us/step - loss: 0.0389 - acc: 0.9876 - val_loss: 0.0409 - val_acc: 0.9897\n",
      "Epoch 35/100\n",
      "54740/54740 [==============================] - 13s 228us/step - loss: 0.0363 - acc: 0.9885 - val_loss: 0.0350 - val_acc: 0.9916\n",
      "Epoch 36/100\n",
      "54740/54740 [==============================] - 13s 229us/step - loss: 0.0353 - acc: 0.9883 - val_loss: 0.0355 - val_acc: 0.9913\n",
      "Epoch 37/100\n",
      "54740/54740 [==============================] - 13s 229us/step - loss: 0.0357 - acc: 0.9884 - val_loss: 0.0352 - val_acc: 0.9915\n",
      "Epoch 38/100\n",
      "54740/54740 [==============================] - 13s 229us/step - loss: 0.0367 - acc: 0.9882 - val_loss: 0.0333 - val_acc: 0.9919\n",
      "Epoch 39/100\n",
      "54740/54740 [==============================] - 13s 228us/step - loss: 0.0334 - acc: 0.9887 - val_loss: 0.0339 - val_acc: 0.9919\n",
      "Epoch 40/100\n",
      "54740/54740 [==============================] - 13s 229us/step - loss: 0.0321 - acc: 0.9889 - val_loss: 0.0324 - val_acc: 0.9925\n",
      "Epoch 41/100\n",
      "54740/54740 [==============================] - 12s 228us/step - loss: 0.0338 - acc: 0.9886 - val_loss: 0.0357 - val_acc: 0.9915\n",
      "Epoch 42/100\n",
      "54740/54740 [==============================] - 13s 229us/step - loss: 0.0320 - acc: 0.9897 - val_loss: 0.0371 - val_acc: 0.9910\n",
      "Epoch 43/100\n",
      "54740/54740 [==============================] - 13s 229us/step - loss: 0.0324 - acc: 0.9897 - val_loss: 0.0352 - val_acc: 0.9910\n",
      "Epoch 44/100\n",
      "54740/54740 [==============================] - 13s 229us/step - loss: 0.0314 - acc: 0.9902 - val_loss: 0.0401 - val_acc: 0.9910\n",
      "Epoch 45/100\n",
      "54740/54740 [==============================] - 13s 230us/step - loss: 0.0304 - acc: 0.9899 - val_loss: 0.0361 - val_acc: 0.9915\n",
      "Epoch 46/100\n",
      "54740/54740 [==============================] - 13s 229us/step - loss: 0.0334 - acc: 0.9887 - val_loss: 0.0353 - val_acc: 0.9918\n",
      "Epoch 47/100\n",
      "54740/54740 [==============================] - 12s 228us/step - loss: 0.0305 - acc: 0.9904 - val_loss: 0.0340 - val_acc: 0.9921\n",
      "Epoch 48/100\n",
      "54740/54740 [==============================] - 12s 228us/step - loss: 0.0330 - acc: 0.9894 - val_loss: 0.0364 - val_acc: 0.9914\n",
      "Epoch 49/100\n",
      "54740/54740 [==============================] - 12s 228us/step - loss: 0.0300 - acc: 0.9900 - val_loss: 0.0367 - val_acc: 0.9909\n",
      "Epoch 50/100\n",
      "54740/54740 [==============================] - 12s 228us/step - loss: 0.0305 - acc: 0.9902 - val_loss: 0.0376 - val_acc: 0.9917\n",
      "Epoch 51/100\n",
      "54740/54740 [==============================] - 12s 228us/step - loss: 0.0279 - acc: 0.9910 - val_loss: 0.0406 - val_acc: 0.9902\n",
      "Epoch 52/100\n",
      "54740/54740 [==============================] - 12s 228us/step - loss: 0.0296 - acc: 0.9904 - val_loss: 0.0350 - val_acc: 0.9919\n",
      "Epoch 53/100\n",
      "54740/54740 [==============================] - 13s 230us/step - loss: 0.0269 - acc: 0.9910 - val_loss: 0.0364 - val_acc: 0.9920\n",
      "Epoch 54/100\n",
      "54740/54740 [==============================] - 13s 236us/step - loss: 0.0290 - acc: 0.9909 - val_loss: 0.0365 - val_acc: 0.9911\n",
      "Epoch 55/100\n",
      "54740/54740 [==============================] - 13s 233us/step - loss: 0.0304 - acc: 0.9902 - val_loss: 0.0324 - val_acc: 0.9916\n",
      "Epoch 56/100\n",
      "54740/54740 [==============================] - 13s 231us/step - loss: 0.0257 - acc: 0.9911 - val_loss: 0.0367 - val_acc: 0.9916\n",
      "Epoch 57/100\n",
      "54740/54740 [==============================] - 13s 232us/step - loss: 0.0263 - acc: 0.9914 - val_loss: 0.0379 - val_acc: 0.9921\n",
      "Epoch 58/100\n",
      "54740/54740 [==============================] - 13s 230us/step - loss: 0.0260 - acc: 0.9914 - val_loss: 0.0352 - val_acc: 0.9919\n",
      "Epoch 59/100\n",
      "54740/54740 [==============================] - 12s 226us/step - loss: 0.0264 - acc: 0.9914 - val_loss: 0.0369 - val_acc: 0.9919\n",
      "Epoch 60/100\n",
      "54740/54740 [==============================] - 12s 227us/step - loss: 0.0250 - acc: 0.9917 - val_loss: 0.0357 - val_acc: 0.9918\n",
      "Epoch 61/100\n",
      "54740/54740 [==============================] - 12s 228us/step - loss: 0.0292 - acc: 0.9905 - val_loss: 0.0349 - val_acc: 0.9919\n",
      "Epoch 62/100\n",
      "54740/54740 [==============================] - 12s 227us/step - loss: 0.0266 - acc: 0.9913 - val_loss: 0.0351 - val_acc: 0.9918\n",
      "Epoch 63/100\n",
      "54740/54740 [==============================] - 12s 227us/step - loss: 0.0268 - acc: 0.9918 - val_loss: 0.0354 - val_acc: 0.9920\n",
      "Epoch 64/100\n",
      "54740/54740 [==============================] - 13s 230us/step - loss: 0.0247 - acc: 0.9919 - val_loss: 0.0351 - val_acc: 0.9922\n",
      "Epoch 65/100\n",
      "54740/54740 [==============================] - 13s 229us/step - loss: 0.0273 - acc: 0.9909 - val_loss: 0.0369 - val_acc: 0.9923\n",
      "Epoch 66/100\n",
      "54740/54740 [==============================] - 12s 226us/step - loss: 0.0254 - acc: 0.9916 - val_loss: 0.0373 - val_acc: 0.9916\n",
      "Epoch 67/100\n",
      "54740/54740 [==============================] - 12s 227us/step - loss: 0.0234 - acc: 0.9925 - val_loss: 0.0400 - val_acc: 0.9914\n",
      "Epoch 68/100\n",
      "54740/54740 [==============================] - 12s 228us/step - loss: 0.0255 - acc: 0.9921 - val_loss: 0.0341 - val_acc: 0.9921\n",
      "Epoch 69/100\n",
      "54740/54740 [==============================] - 12s 227us/step - loss: 0.0245 - acc: 0.9922 - val_loss: 0.0379 - val_acc: 0.9921\n",
      "Epoch 70/100\n",
      "54740/54740 [==============================] - 12s 226us/step - loss: 0.0225 - acc: 0.9926 - val_loss: 0.0395 - val_acc: 0.9917\n",
      "Epoch 71/100\n",
      "54740/54740 [==============================] - 12s 226us/step - loss: 0.0251 - acc: 0.9922 - val_loss: 0.0344 - val_acc: 0.9920\n",
      "Epoch 72/100\n",
      "54740/54740 [==============================] - 12s 227us/step - loss: 0.0227 - acc: 0.9927 - val_loss: 0.0400 - val_acc: 0.9919\n",
      "Epoch 73/100\n",
      "54740/54740 [==============================] - 12s 227us/step - loss: 0.0247 - acc: 0.9921 - val_loss: 0.0361 - val_acc: 0.9922\n",
      "Epoch 74/100\n",
      "54740/54740 [==============================] - 12s 227us/step - loss: 0.0234 - acc: 0.9924 - val_loss: 0.0401 - val_acc: 0.9919\n",
      "Epoch 75/100\n",
      "54740/54740 [==============================] - 12s 227us/step - loss: 0.0245 - acc: 0.9921 - val_loss: 0.0408 - val_acc: 0.9919\n",
      "Epoch 76/100\n",
      "54740/54740 [==============================] - 12s 227us/step - loss: 0.0243 - acc: 0.9922 - val_loss: 0.0401 - val_acc: 0.9914\n",
      "Epoch 77/100\n",
      "54740/54740 [==============================] - 12s 227us/step - loss: 0.0245 - acc: 0.9922 - val_loss: 0.0381 - val_acc: 0.9914\n",
      "Epoch 78/100\n",
      "54740/54740 [==============================] - 12s 227us/step - loss: 0.0238 - acc: 0.9925 - val_loss: 0.0353 - val_acc: 0.9919\n",
      "Epoch 79/100\n",
      "54740/54740 [==============================] - 12s 227us/step - loss: 0.0228 - acc: 0.9926 - val_loss: 0.0370 - val_acc: 0.9921\n",
      "Epoch 80/100\n",
      "54740/54740 [==============================] - 13s 229us/step - loss: 0.0222 - acc: 0.9927 - val_loss: 0.0384 - val_acc: 0.9918\n",
      "Epoch 81/100\n",
      "54740/54740 [==============================] - 12s 226us/step - loss: 0.0251 - acc: 0.9921 - val_loss: 0.0404 - val_acc: 0.9913\n",
      "Epoch 82/100\n",
      "54740/54740 [==============================] - 13s 229us/step - loss: 0.0242 - acc: 0.9923 - val_loss: 0.0356 - val_acc: 0.9922\n",
      "Epoch 83/100\n",
      "54740/54740 [==============================] - 12s 228us/step - loss: 0.0218 - acc: 0.9930 - val_loss: 0.0400 - val_acc: 0.9916\n",
      "Epoch 84/100\n",
      "54740/54740 [==============================] - 12s 227us/step - loss: 0.0253 - acc: 0.9922 - val_loss: 0.0425 - val_acc: 0.9914\n",
      "Epoch 85/100\n",
      "54740/54740 [==============================] - 12s 226us/step - loss: 0.0234 - acc: 0.9920 - val_loss: 0.0364 - val_acc: 0.9922\n",
      "Epoch 86/100\n",
      "54740/54740 [==============================] - 12s 227us/step - loss: 0.0207 - acc: 0.9935 - val_loss: 0.0438 - val_acc: 0.9913\n",
      "Epoch 87/100\n",
      "54740/54740 [==============================] - 12s 227us/step - loss: 0.0225 - acc: 0.9927 - val_loss: 0.0372 - val_acc: 0.9919\n",
      "Epoch 88/100\n",
      "54740/54740 [==============================] - 12s 227us/step - loss: 0.0234 - acc: 0.9928 - val_loss: 0.0369 - val_acc: 0.9914\n",
      "Epoch 89/100\n",
      "54740/54740 [==============================] - 12s 227us/step - loss: 0.0213 - acc: 0.9933 - val_loss: 0.0392 - val_acc: 0.9922\n",
      "Epoch 90/100\n",
      "54740/54740 [==============================] - 12s 227us/step - loss: 0.0230 - acc: 0.9930 - val_loss: 0.0384 - val_acc: 0.9919\n",
      "Epoch 91/100\n",
      "54740/54740 [==============================] - 12s 226us/step - loss: 0.0238 - acc: 0.9924 - val_loss: 0.0434 - val_acc: 0.9916\n",
      "Epoch 92/100\n",
      "54740/54740 [==============================] - 12s 226us/step - loss: 0.0221 - acc: 0.9928 - val_loss: 0.0430 - val_acc: 0.9917\n",
      "Epoch 93/100\n",
      "54740/54740 [==============================] - 12s 227us/step - loss: 0.0232 - acc: 0.9929 - val_loss: 0.0443 - val_acc: 0.9918\n",
      "Epoch 94/100\n",
      "54740/54740 [==============================] - 12s 227us/step - loss: 0.0244 - acc: 0.9918 - val_loss: 0.0392 - val_acc: 0.9922\n",
      "Epoch 95/100\n",
      "54740/54740 [==============================] - 12s 227us/step - loss: 0.0225 - acc: 0.9929 - val_loss: 0.0434 - val_acc: 0.9919\n",
      "Epoch 96/100\n",
      "54740/54740 [==============================] - 12s 226us/step - loss: 0.0230 - acc: 0.9931 - val_loss: 0.0454 - val_acc: 0.9916\n",
      "Epoch 97/100\n",
      "54740/54740 [==============================] - 12s 226us/step - loss: 0.0220 - acc: 0.9929 - val_loss: 0.0423 - val_acc: 0.9925\n",
      "Epoch 98/100\n",
      "54740/54740 [==============================] - 12s 226us/step - loss: 0.0235 - acc: 0.9929 - val_loss: 0.0394 - val_acc: 0.9918\n",
      "Epoch 99/100\n",
      "54740/54740 [==============================] - 12s 228us/step - loss: 0.0203 - acc: 0.9936 - val_loss: 0.0398 - val_acc: 0.9921\n",
      "Epoch 100/100\n",
      "54740/54740 [==============================] - 12s 227us/step - loss: 0.0220 - acc: 0.9932 - val_loss: 0.0417 - val_acc: 0.9919\n",
      "13800/13800 [==============================] - 1s 106us/step\n",
      "Train time =  21.006407570838928 min \n",
      "Test time =  0.024367753664652506 min \n",
      " Test loss:  0.041206765008498555  Test accuracy:  0.9921014492753624\n"
     ]
    }
   ],
   "source": [
    "#Evaluate the model, \n",
    "time1 = time.time()\n",
    "tensorboard_callback = keras.callbacks.TensorBoard(log_dir = './cnn0', histogram_freq = 0, write_graph = True, write_images = True)\n",
    "history = model.fit(x_train, y_train, batch_size=100, epochs = 100, validation_split = 0.3, shuffle = True, callbacks = [tensorboard_callback])\n",
    "time2 = time.time()\n",
    "score = model.evaluate(x_test, y_test, batch_size=32, verbose = 1)\n",
    "time3 = time.time()\n",
    "print(\"Train time = \", (time2 - time1)/60, \"min\", \"\\nTest time = \", (time3 - time2)/ 60, \"min\", \"\\n Test loss: \", score[0], \" Test accuracy: \", score[1])"
   ]
  },
  {
   "cell_type": "code",
   "execution_count": 0,
   "metadata": {
    "colab": {
     "base_uri": "https://localhost:8080/",
     "height": 752
    },
    "colab_type": "code",
    "id": "0iPGhyUe5iQY",
    "outputId": "18410082-3fcc-4ce4-fd42-7b7e15a0d7c6"
   },
   "outputs": [
    {
     "name": "stdout",
     "output_type": "stream",
     "text": [
      "dict_keys(['val_loss', 'val_acc', 'loss', 'acc'])\n"
     ]
    },
    {
     "data": {
      "image/png": "[encoded data removed]",
      "text/plain": [
       "<Figure size 576x396 with 1 Axes>"
      ]
     },
     "metadata": {
      "tags": []
     },
     "output_type": "display_data"
    },
    {
     "data": {
      "image/png": "[encoded data removed]",
      "text/plain": [
       "<Figure size 576x396 with 1 Axes>"
      ]
     },
     "metadata": {
      "tags": []
     },
     "output_type": "display_data"
    }
   ],
   "source": [
    "# list all data in history\n",
    "print(history.history.keys())\n",
    "\n",
    "# summarize history for accuracy\n",
    "plt.plot(history.history['acc'])\n",
    "plt.plot(history.history['val_acc'])\n",
    "plt.title('model accuracy')\n",
    "plt.ylabel('accuracy')\n",
    "plt.xlabel('epoch')\n",
    "plt.legend(['train', 'test'], loc='upper left')\n",
    "plt.show()\n",
    "\n",
    "# summarize history for loss\n",
    "plt.plot(history.history['loss'])\n",
    "plt.plot(history.history['val_loss'])\n",
    "plt.title('model loss')\n",
    "plt.ylabel('loss')\n",
    "plt.xlabel('epoch')\n",
    "plt.legend(['train', 'test'], loc='upper left')\n",
    "plt.show()"
   ]
  },
  {
   "cell_type": "code",
   "execution_count": 0,
   "metadata": {
    "colab": {},
    "colab_type": "code",
    "id": "QTCnz2sSsmYb"
   },
   "outputs": [],
   "source": [
    "#model.save('mycnn.hdf5')\n",
    "model_json = model.to_json()\n",
    "\n",
    "with open(\"cnn0.json\", \"w\") as json_file:\n",
    "    json_file.write(model_json)\n",
    "\n",
    "# serialize weights to HDF5\n",
    "model.save_weights(\"cnn0.h5\")"
   ]
  },
  {
   "cell_type": "code",
   "execution_count": 25,
   "metadata": {
    "colab": {},
    "colab_type": "code",
    "id": "Kgd7Okgass2d"
   },
   "outputs": [],
   "source": [
    "import tensorflow as tf\n",
    "\n",
    "# Load the model using the full path\n",
    "# model = tf.keras.models.load_model(\"cnn0.h5\")\n",
    "newmodel=model.load_weights('cnn0.h5')\n",
    "# Now you can use the loaded model for predictions\n"
   ]
  },
  {
   "cell_type": "code",
   "execution_count": 6,
   "metadata": {
    "colab": {},
    "colab_type": "code",
    "id": "N50VVOBKzM4R"
   },
   "outputs": [
    {
     "name": "stdout",
     "output_type": "stream",
     "text": [
      "C:\\Users\\Sanket\\Jupyter notebook\\final-devanagari-word-char-detector\\cnn0\n"
     ]
    }
   ],
   "source": [
    "import os\n",
    "print(os.getcwd())\n"
   ]
  },
  {
   "cell_type": "code",
   "execution_count": 26,
   "metadata": {},
   "outputs": [
    {
     "ename": "TypeError",
     "evalue": "'NoneType' object is not subscriptable",
     "output_type": "error",
     "traceback": [
      "\u001b[1;31m---------------------------------------------------------------------------\u001b[0m",
      "\u001b[1;31mTypeError\u001b[0m                                 Traceback (most recent call last)",
      "Cell \u001b[1;32mIn [26], line 1\u001b[0m\n\u001b[1;32m----> 1\u001b[0m model\u001b[38;5;241m.\u001b[39mevaluate(\u001b[43mnewmodel\u001b[49m\u001b[43m[\u001b[49m\u001b[38;5;241;43m0\u001b[39;49m\u001b[43m]\u001b[49m)\n",
      "\u001b[1;31mTypeError\u001b[0m: 'NoneType' object is not subscriptable"
     ]
    }
   ],
   "source": [
    "model.evaluate(newmodel[0])"
   ]
  }
 ],
 "metadata": {
  "accelerator": "GPU",
  "colab": {
   "name": "cnn0.ipynb",
   "provenance": [],
   "version": "0.3.2"
  },
  "kernelspec": {
   "display_name": "Python 3 (ipykernel)",
   "language": "python",
   "name": "python3"
  },
  "language_info": {
   "codemirror_mode": {
    "name": "ipython",
    "version": 3
   },
   "file_extension": ".py",
   "mimetype": "text/x-python",
   "name": "python",
   "nbconvert_exporter": "python",
   "pygments_lexer": "ipython3",
   "version": "3.9.7"
  },
  "latex_envs": {
   "LaTeX_envs_menu_present": true,
   "autoclose": false,
   "autocomplete": true,
   "bibliofile": "biblio.bib",
   "cite_by": "apalike",
   "current_citInitial": 1,
   "eqLabelWithNumbers": true,
   "eqNumInitial": 1,
   "hotkeys": {
    "equation": "Ctrl-E",
    "itemize": "Ctrl-I"
   },
   "labels_anchors": false,
   "latex_user_defs": false,
   "report_style_numbering": false,
   "user_envs_cfg": false
  },
  "nbTranslate": {
   "displayLangs": [
    "*"
   ],
   "hotkey": "alt-t",
   "langInMainMenu": true,
   "sourceLang": "en",
   "targetLang": "fr",
   "useGoogleTranslate": true
  },
  "toc": {
   "base_numbering": 1,
   "nav_menu": {},
   "number_sections": true,
   "sideBar": true,
   "skip_h1_title": false,
   "title_cell": "Table of Contents",
   "title_sidebar": "Contents",
   "toc_cell": false,
   "toc_position": {},
   "toc_section_display": true,
   "toc_window_display": false
  }
 },
 "nbformat": 4,
 "nbformat_minor": 1
}
