{
 "cells": [
  {
   "cell_type": "markdown",
   "metadata": {},
   "source": [
    "<h1 align = 'center'>Some commented parts are used only on colab. And make sure about dataset directory</h1>"
   ]
  },
  {
   "cell_type": "code",
   "execution_count": 1,
   "metadata": {
    "colab": {
     "base_uri": "https://localhost:8080/",
     "height": 292
    },
    "colab_type": "code",
    "id": "zmAZSY3RcpZa",
    "outputId": "b6c38532-b0f9-4be0-c8c1-fe81f2df2dd9"
   },
   "outputs": [],
   "source": [
    "#import libraries\n",
    "#!pip3 install keras==2.1.3\n",
    "import numpy as np\n",
    "import keras\n",
    "#print(keras.__version__)\n",
    "from keras.models import Sequential\n",
    "from keras.layers import Dense, Dropout, Flatten\n",
    "from keras.layers import Conv2D, MaxPooling2D\n",
    "from keras.optimizers import SGD\n",
    "from keras.models import model_from_json\n",
    "from keras.models import load_model\n",
    "import matplotlib.pyplot as plt\n",
    "import cv2\n",
    "import time\n",
    "\n",
    "plt.style.use('seaborn-whitegrid')\n"
   ]
  },
  {
   "cell_type": "code",
   "execution_count": 2,
   "metadata": {
    "colab": {
     "base_uri": "https://localhost:8080/",
     "height": 666
    },
    "colab_type": "code",
    "id": "D1zmlvK9NT9p",
    "outputId": "dbae5fc5-ea70-4033-c95a-e34060b61752"
   },
   "outputs": [
    {
     "name": "stdout",
     "output_type": "stream",
     "text": [
      "Model: \"sequential\"\n",
      "_________________________________________________________________\n",
      " Layer (type)                Output Shape              Param #   \n",
      "=================================================================\n",
      " conv2d (Conv2D)             (None, 30, 30, 32)        320       \n",
      "                                                                 \n",
      " conv2d_1 (Conv2D)           (None, 28, 28, 32)        9248      \n",
      "                                                                 \n",
      " max_pooling2d (MaxPooling2D  (None, 14, 14, 32)       0         \n",
      " )                                                               \n",
      "                                                                 \n",
      " dropout (Dropout)           (None, 14, 14, 32)        0         \n",
      "                                                                 \n",
      " conv2d_2 (Conv2D)           (None, 12, 12, 64)        18496     \n",
      "                                                                 \n",
      " conv2d_3 (Conv2D)           (None, 10, 10, 64)        36928     \n",
      "                                                                 \n",
      " max_pooling2d_1 (MaxPooling  (None, 5, 5, 64)         0         \n",
      " 2D)                                                             \n",
      "                                                                 \n",
      " dropout_1 (Dropout)         (None, 5, 5, 64)          0         \n",
      "                                                                 \n",
      " flatten (Flatten)           (None, 1600)              0         \n",
      "                                                                 \n",
      " dense (Dense)               (None, 256)               409856    \n",
      "                                                                 \n",
      " dropout_2 (Dropout)         (None, 256)               0         \n",
      "                                                                 \n",
      " dense_1 (Dense)             (None, 46)                11822     \n",
      "                                                                 \n",
      "=================================================================\n",
      "Total params: 486,670\n",
      "Trainable params: 486,670\n",
      "Non-trainable params: 0\n",
      "_________________________________________________________________\n"
     ]
    }
   ],
   "source": [
    "model = Sequential()\n",
    "\n",
    "#input size is 32 by 32 and filter is grayscale,\n",
    "#we want to get 32 filters so here 32 filters of size (3, 3) will be used which gives 32 filter maps\n",
    "model.add(Conv2D(32, (3, 3), activation = 'relu', input_shape = (32, 32, 1), data_format = 'channels_last'))\n",
    "model.add(Conv2D(32, (3, 3), activation='relu'))\n",
    "model.add(MaxPooling2D(pool_size=(2, 2)))\n",
    "model.add(Dropout(0.25))\n",
    "\n",
    "model.add(Conv2D(64, (3, 3), activation='relu'))\n",
    "model.add(Conv2D(64, (3, 3), activation='relu'))\n",
    "model.add(MaxPooling2D(pool_size=(2, 2)))\n",
    "model.add(Dropout(0.25))\n",
    "\n",
    "model.add(Flatten())\n",
    "model.add(Dense(256, activation='relu'))\n",
    "model.add(Dropout(0.5))\n",
    "model.add(Dense(46, activation='softmax'))\n",
    "\n",
    "model.summary()"
   ]
  },
  {
   "cell_type": "code",
   "execution_count": 3,
   "metadata": {
    "colab": {
     "base_uri": "https://localhost:8080/",
     "height": 51
    },
    "colab_type": "code",
    "id": "1MM5VmmsoAxa",
    "outputId": "a4743624-da5a-4abd-dafa-12a250c45d68"
   },
   "outputs": [
    {
     "name": "stdout",
     "output_type": "stream",
     "text": [
      "\u001b[?25l\r",
      "\u001b[K    1% |▎                               | 10kB 16.1MB/s eta 0:00:01\r",
      "\u001b[K    2% |▋                               | 20kB 1.8MB/s eta 0:00:01\r",
      "\u001b[K    3% |█                               | 30kB 2.6MB/s eta 0:00:01\r",
      "\u001b[K    4% |█▎                              | 40kB 1.7MB/s eta 0:00:01\r",
      "\u001b[K    5% |█▋                              | 51kB 2.1MB/s eta 0:00:01\r",
      "\u001b[K    6% |██                              | 61kB 2.5MB/s eta 0:00:01\r",
      "\u001b[K    7% |██▎                             | 71kB 2.9MB/s eta 0:00:01\r",
      "\u001b[K    8% |██▋                             | 81kB 3.3MB/s eta 0:00:01\r",
      "\u001b[K    9% |███                             | 92kB 3.7MB/s eta 0:00:01\r",
      "\u001b[K    10% |███▎                            | 102kB 2.8MB/s eta 0:00:01\r",
      "\u001b[K    11% |███▋                            | 112kB 2.8MB/s eta 0:00:01\r",
      "\u001b[K    12% |████                            | 122kB 4.0MB/s eta 0:00:01\r",
      "\u001b[K    13% |████▎                           | 133kB 4.0MB/s eta 0:00:01\r",
      "\u001b[K    14% |████▋                           | 143kB 7.5MB/s eta 0:00:01\r",
      "\u001b[K    15% |█████                           | 153kB 7.5MB/s eta 0:00:01\r",
      "\u001b[K    16% |█████▎                          | 163kB 7.5MB/s eta 0:00:01\r",
      "\u001b[K    17% |█████▋                          | 174kB 7.5MB/s eta 0:00:01\r",
      "\u001b[K    18% |██████                          | 184kB 7.5MB/s eta 0:00:01\r",
      "\u001b[K    19% |██████▎                         | 194kB 7.5MB/s eta 0:00:01\r",
      "\u001b[K    20% |██████▋                         | 204kB 8.0MB/s eta 0:00:01\r",
      "\u001b[K    21% |███████                         | 215kB 8.1MB/s eta 0:00:01\r",
      "\u001b[K    22% |███████▎                        | 225kB 8.1MB/s eta 0:00:01\r",
      "\u001b[K    23% |███████▋                        | 235kB 8.1MB/s eta 0:00:01\r",
      "\u001b[K    24% |████████                        | 245kB 8.1MB/s eta 0:00:01\r",
      "\u001b[K    25% |████████▎                       | 256kB 8.1MB/s eta 0:00:01\r",
      "\u001b[K    26% |████████▋                       | 266kB 8.0MB/s eta 0:00:01\r",
      "\u001b[K    27% |█████████                       | 276kB 8.1MB/s eta 0:00:01\r",
      "\u001b[K    29% |█████████▎                      | 286kB 8.1MB/s eta 0:00:01\r",
      "\u001b[K    30% |█████████▋                      | 296kB 8.1MB/s eta 0:00:01\r",
      "\u001b[K    31% |██████████                      | 307kB 43.3MB/s eta 0:00:01\r",
      "\u001b[K    32% |██████████▎                     | 317kB 45.6MB/s eta 0:00:01\r",
      "\u001b[K    33% |██████████▋                     | 327kB 44.4MB/s eta 0:00:01\r",
      "\u001b[K    34% |███████████                     | 337kB 45.8MB/s eta 0:00:01\r",
      "\u001b[K    35% |███████████▎                    | 348kB 42.6MB/s eta 0:00:01\r",
      "\u001b[K    36% |███████████▋                    | 358kB 43.4MB/s eta 0:00:01\r",
      "\u001b[K    37% |████████████                    | 368kB 47.0MB/s eta 0:00:01\r",
      "\u001b[K    38% |████████████▎                   | 378kB 43.9MB/s eta 0:00:01\r",
      "\u001b[K    39% |████████████▋                   | 389kB 44.3MB/s eta 0:00:01\r",
      "\u001b[K    40% |█████████████                   | 399kB 10.5MB/s eta 0:00:01\r",
      "\u001b[K    41% |█████████████▎                  | 409kB 10.4MB/s eta 0:00:01\r",
      "\u001b[K    42% |█████████████▋                  | 419kB 10.4MB/s eta 0:00:01\r",
      "\u001b[K    43% |██████████████                  | 430kB 10.4MB/s eta 0:00:01\r",
      "\u001b[K    44% |██████████████▎                 | 440kB 10.4MB/s eta 0:00:01\r",
      "\u001b[K    45% |██████████████▋                 | 450kB 10.5MB/s eta 0:00:01\r",
      "\u001b[K    46% |███████████████                 | 460kB 10.5MB/s eta 0:00:01\r",
      "\u001b[K    47% |███████████████▎                | 471kB 10.5MB/s eta 0:00:01\r",
      "\u001b[K    48% |███████████████▋                | 481kB 10.6MB/s eta 0:00:01\r",
      "\u001b[K    49% |████████████████                | 491kB 10.6MB/s eta 0:00:01\r",
      "\u001b[K    50% |████████████████▎               | 501kB 45.5MB/s eta 0:00:01\r",
      "\u001b[K    51% |████████████████▋               | 512kB 43.9MB/s eta 0:00:01\r",
      "\u001b[K    52% |█████████████████               | 522kB 44.4MB/s eta 0:00:01\r",
      "\u001b[K    53% |█████████████████▎              | 532kB 47.5MB/s eta 0:00:01\r",
      "\u001b[K    54% |█████████████████▋              | 542kB 8.7MB/s eta 0:00:01\r",
      "\u001b[K    55% |██████████████████              | 552kB 8.8MB/s eta 0:00:01\r",
      "\u001b[K    57% |██████████████████▎             | 563kB 8.7MB/s eta 0:00:01\r",
      "\u001b[K    58% |██████████████████▋             | 573kB 8.7MB/s eta 0:00:01\r",
      "\u001b[K    59% |███████████████████             | 583kB 8.7MB/s eta 0:00:01\r",
      "\u001b[K    60% |███████████████████▎            | 593kB 8.7MB/s eta 0:00:01\r",
      "\u001b[K    61% |███████████████████▋            | 604kB 8.7MB/s eta 0:00:01\r",
      "\u001b[K    62% |████████████████████            | 614kB 8.8MB/s eta 0:00:01\r",
      "\u001b[K    63% |████████████████████▎           | 624kB 8.8MB/s eta 0:00:01\r",
      "\u001b[K    64% |████████████████████▋           | 634kB 8.8MB/s eta 0:00:01\r",
      "\u001b[K    65% |█████████████████████           | 645kB 47.9MB/s eta 0:00:01\r",
      "\u001b[K    66% |█████████████████████▎          | 655kB 47.6MB/s eta 0:00:01\r",
      "\u001b[K    67% |█████████████████████▋          | 665kB 42.4MB/s eta 0:00:01\r",
      "\u001b[K    68% |██████████████████████          | 675kB 42.9MB/s eta 0:00:01\r",
      "\u001b[K    69% |██████████████████████▎         | 686kB 43.4MB/s eta 0:00:01\r",
      "\u001b[K    70% |██████████████████████▋         | 696kB 44.1MB/s eta 0:00:01\r",
      "\u001b[K    71% |███████████████████████         | 706kB 44.0MB/s eta 0:00:01\r",
      "\u001b[K    72% |███████████████████████▎        | 716kB 44.3MB/s eta 0:00:01\r",
      "\u001b[K    73% |███████████████████████▋        | 727kB 44.7MB/s eta 0:00:01\r",
      "\u001b[K    74% |████████████████████████        | 737kB 43.7MB/s eta 0:00:01\r",
      "\u001b[K    75% |████████████████████████▎       | 747kB 44.6MB/s eta 0:00:01\r",
      "\u001b[K    76% |████████████████████████▋       | 757kB 44.5MB/s eta 0:00:01\r",
      "\u001b[K    77% |████████████████████████▉       | 768kB 53.7MB/s eta 0:00:01\r",
      "\u001b[K    78% |█████████████████████████▏      | 778kB 52.5MB/s eta 0:00:01\r",
      "\u001b[K    79% |█████████████████████████▌      | 788kB 51.6MB/s eta 0:00:01\r",
      "\u001b[K    80% |█████████████████████████▉      | 798kB 51.9MB/s eta 0:00:01\r",
      "\u001b[K    81% |██████████████████████████▏     | 808kB 51.8MB/s eta 0:00:01\r",
      "\u001b[K    82% |██████████████████████████▌     | 819kB 51.6MB/s eta 0:00:01\r",
      "\u001b[K    83% |██████████████████████████▉     | 829kB 52.5MB/s eta 0:00:01\r",
      "\u001b[K    85% |███████████████████████████▏    | 839kB 52.5MB/s eta 0:00:01\r",
      "\u001b[K    86% |███████████████████████████▌    | 849kB 52.6MB/s eta 0:00:01\r",
      "\u001b[K    87% |███████████████████████████▉    | 860kB 48.4MB/s eta 0:00:01\r",
      "\u001b[K    88% |████████████████████████████▏   | 870kB 49.2MB/s eta 0:00:01\r",
      "\u001b[K    89% |████████████████████████████▌   | 880kB 50.6MB/s eta 0:00:01\r",
      "\u001b[K    90% |████████████████████████████▉   | 890kB 51.1MB/s eta 0:00:01\r",
      "\u001b[K    91% |█████████████████████████████▏  | 901kB 51.0MB/s eta 0:00:01\r",
      "\u001b[K    92% |█████████████████████████████▌  | 911kB 51.0MB/s eta 0:00:01\r",
      "\u001b[K    93% |█████████████████████████████▉  | 921kB 50.6MB/s eta 0:00:01\r",
      "\u001b[K    94% |██████████████████████████████▏ | 931kB 50.1MB/s eta 0:00:01\r",
      "\u001b[K    95% |██████████████████████████████▌ | 942kB 50.4MB/s eta 0:00:01\r",
      "\u001b[K    96% |██████████████████████████████▉ | 952kB 50.6MB/s eta 0:00:01\r",
      "\u001b[K    97% |███████████████████████████████▏| 962kB 55.6MB/s eta 0:00:01\r",
      "\u001b[K    98% |███████████████████████████████▌| 972kB 18.7MB/s eta 0:00:01\r",
      "\u001b[K    99% |███████████████████████████████▉| 983kB 18.4MB/s eta 0:00:01\r",
      "\u001b[K    100% |████████████████████████████████| 993kB 11.2MB/s \n",
      "\u001b[?25h  Building wheel for PyDrive (setup.py) ... \u001b[?25ldone\n",
      "\u001b[?25h"
     ]
    }
   ],
   "source": [
    "\"\"\"\n",
    "# Code to read csv file into Colaboratory:\n",
    "!pip install -U -q PyDrive\n",
    "from pydrive.auth import GoogleAuth\n",
    "\n",
    "from pydrive.drive import GoogleDrive\n",
    "from google.colab import auth\n",
    "from oauth2client.client import GoogleCredentials\n",
    "# Authenticate and create the PyDrive client.\n",
    "auth.authenticate_user()\n",
    "gauth = GoogleAuth()\n",
    "gauth.credentials = GoogleCredentials.get_application_default()\n",
    "drive = GoogleDrive(gauth)\n",
    "\"\"\""
   ]
  },
  {
   "cell_type": "code",
   "execution_count": 0,
   "metadata": {
    "colab": {},
    "colab_type": "code",
    "collapsed": true,
    "id": "K8JQ0dH6oyxD"
   },
   "outputs": [],
   "source": [
    "\"\"\"\n",
    "train_link = 'https://drive.google.com/open?id=104DhX-7q-6gVxM6I7EB8C5XTF0YQ5njr'\n",
    "fluff, id = train_link.split('=')\n",
    "downloaded = drive.CreateFile({'id':id}) \n",
    "downloaded.GetContentFile('train.csv') \n",
    "\n",
    "test_link = 'https://drive.google.com/open?id=1zZTF2b6p8aJoAaPGSrvd04Y5f-AP1VPD'\n",
    "fluff, id = test_link.split('=')\n",
    "downloaded = drive.CreateFile({'id':id}) \n",
    "downloaded.GetContentFile('test.csv')\n",
    "\"\"\""
   ]
  },
  {
   "cell_type": "code",
   "execution_count": 3,
   "metadata": {
    "colab": {},
    "colab_type": "code",
    "id": "WRpCD8oDT0EG"
   },
   "outputs": [],
   "source": [
    "def current_example(example_number, data_set):\n",
    "    current_datafile = open(data_set + '.csv', 'r')\n",
    "    current_dataset = current_datafile.readlines()\n",
    "    current_datafile.close()\n",
    "    \n",
    "    inputs = np.zeros((len(example_number), 32, 32, 1))\n",
    "    targets = np.zeros((len(example_number), 1))\n",
    "    index = 0\n",
    "    \n",
    "    for each_number in example_number:\n",
    "        each_set = current_dataset[each_number]\n",
    "        all_values = each_set.split(',')\n",
    "\n",
    "        #the first value is the label\n",
    "        correct_label = int(all_values[0])\n",
    "\n",
    "        #Normalize the pixel values in range of 0.01 - 1 \n",
    "        inputs[index] = np.asarray(all_values[1:], dtype = np.float32).reshape(32, 32, 1) / 255 * 0.99 + 0.01 \n",
    "        targets[index] = int(all_values[0])\n",
    "        index += 1\n",
    "            \n",
    "    return(inputs, targets)\n"
   ]
  },
  {
   "cell_type": "code",
   "execution_count": 4,
   "metadata": {
    "colab": {},
    "colab_type": "code",
    "id": "_Qo7Z4Ndci2R"
   },
   "outputs": [],
   "source": [
    "#prepare training and test data\n",
    "np.random.seed(0)\n",
    "num_exmp = np.linspace(0, 78199, 78200, dtype = np.int32)\n",
    "np.random.shuffle(num_exmp)\n",
    "(x_train, y_train) = current_example(num_exmp, 'train') \n",
    "y_train = keras.utils.to_categorical(y_train, num_classes=46)\n",
    "\n",
    "num_exmp = np.linspace(0, 13799, 13800, dtype = np.int32)\n",
    "x_test, y_test = current_example(num_exmp, 'test')\n",
    "y_test = keras.utils.to_categorical(y_test, num_classes=46)\n"
   ]
  },
  {
   "cell_type": "code",
   "execution_count": 5,
   "metadata": {
    "colab": {},
    "colab_type": "code",
    "id": "xJEaG3ekct_s",
    "scrolled": true
   },
   "outputs": [
    {
     "name": "stderr",
     "output_type": "stream",
     "text": [
      "C:\\Users\\Sanket\\AppData\\Roaming\\Python\\Python39\\site-packages\\keras\\optimizers\\optimizer_v2\\gradient_descent.py:114: UserWarning: The `lr` argument is deprecated, use `learning_rate` instead.\n",
      "  super().__init__(name, **kwargs)\n"
     ]
    }
   ],
   "source": [
    "\n",
    "#Compile the model\n",
    "sgd = SGD(lr=0.01, decay = 1e-6, momentum=0.9, nesterov=True)\n",
    "\n",
    "model.compile(loss = 'categorical_crossentropy', optimizer = sgd, metrics = ['accuracy'])\n"
   ]
  },
  {
   "cell_type": "code",
   "execution_count": null,
   "metadata": {
    "colab": {
     "base_uri": "https://localhost:8080/",
     "height": 3590
    },
    "colab_type": "code",
    "id": "vS-lVLc_cwQC",
    "outputId": "ed8c0646-3601-4e89-cda2-41083609719c"
   },
   "outputs": [
    {
     "name": "stdout",
     "output_type": "stream",
     "text": [
      "Epoch 1/100\n",
      "1955/1955 [==============================] - 163s 83ms/step - loss: 1.2062 - accuracy: 0.6614 - val_loss: 0.2427 - val_accuracy: 0.9238\n",
      "Epoch 2/100\n",
      "1955/1955 [==============================] - 161s 82ms/step - loss: 0.3741 - accuracy: 0.8854 - val_loss: 0.1316 - val_accuracy: 0.9590\n",
      "Epoch 3/100\n",
      "1955/1955 [==============================] - 161s 82ms/step - loss: 0.2505 - accuracy: 0.9226 - val_loss: 0.1013 - val_accuracy: 0.9724\n",
      "Epoch 4/100\n",
      "1955/1955 [==============================] - 162s 83ms/step - loss: 0.1986 - accuracy: 0.9385 - val_loss: 0.0834 - val_accuracy: 0.9763\n",
      "Epoch 5/100\n",
      "1955/1955 [==============================] - 163s 83ms/step - loss: 0.1706 - accuracy: 0.9463 - val_loss: 0.0689 - val_accuracy: 0.9795\n",
      "Epoch 6/100\n",
      "1955/1955 [==============================] - 163s 83ms/step - loss: 0.1436 - accuracy: 0.9554 - val_loss: 0.0689 - val_accuracy: 0.9790\n",
      "Epoch 7/100\n",
      "1955/1955 [==============================] - 162s 83ms/step - loss: 0.1256 - accuracy: 0.9604 - val_loss: 0.0619 - val_accuracy: 0.9828\n",
      "Epoch 8/100\n",
      "1955/1955 [==============================] - 162s 83ms/step - loss: 0.1183 - accuracy: 0.9631 - val_loss: 0.0547 - val_accuracy: 0.9843\n",
      "Epoch 9/100\n",
      "1955/1955 [==============================] - 162s 83ms/step - loss: 0.1070 - accuracy: 0.9660 - val_loss: 0.0645 - val_accuracy: 0.9815\n",
      "Epoch 10/100\n",
      "1955/1955 [==============================] - 162s 83ms/step - loss: 0.1007 - accuracy: 0.9685 - val_loss: 0.0513 - val_accuracy: 0.9855\n",
      "Epoch 11/100\n",
      "1955/1955 [==============================] - 164s 84ms/step - loss: 0.0901 - accuracy: 0.9719 - val_loss: 0.0499 - val_accuracy: 0.9859\n",
      "Epoch 12/100\n",
      "1955/1955 [==============================] - 164s 84ms/step - loss: 0.0840 - accuracy: 0.9736 - val_loss: 0.0519 - val_accuracy: 0.9854\n",
      "Epoch 13/100\n",
      "1165/1955 [================>.............] - ETA: 1:01 - loss: 0.0832 - accuracy: 0.9735"
     ]
    }
   ],
   "source": [
    "#Evaluate the model, \n",
    "time1 = time.time()\n",
    "tensorboard_callback = keras.callbacks.TensorBoard(log_dir = './cnn2', histogram_freq = 0, write_graph = True, write_images = True)\n",
    "history = model.fit(x_train, y_train, batch_size=32, epochs = 100, validation_split = 0.2, shuffle = True, callbacks = [tensorboard_callback])\n",
    "time2 = time.time()\n",
    "score = model.evaluate(x_test, y_test, batch_size=32, verbose = 1)\n",
    "time3 = time.time()\n",
    "print(\"Train time = \", (time2 - time1)/60, \"min\", \"\\nTest time = \", (time3 - time2)/ 60, \"min\", \"\\n Test loss: \", score[0], \" Test accuracy: \", score[1])"
   ]
  },
  {
   "cell_type": "code",
   "execution_count": 12,
   "metadata": {
    "colab": {
     "base_uri": "https://localhost:8080/",
     "height": 752
    },
    "colab_type": "code",
    "id": "BjiG4wXUQ3LC",
    "outputId": "41559367-f20c-425e-bb33-4d0bab25d780",
    "scrolled": true
   },
   "outputs": [
    {
     "name": "stdout",
     "output_type": "stream",
     "text": [
      "dict_keys(['val_loss', 'val_acc', 'loss', 'acc'])\n"
     ]
    },
    {
     "data": {
      "image/png": "[encoded data removed]",
      "text/plain": [
       "<Figure size 576x396 with 1 Axes>"
      ]
     },
     "metadata": {
      "tags": []
     },
     "output_type": "display_data"
    },
    {
     "data": {
      "image/png": "[encoded data removed]",
      "text/plain": [
       "<Figure size 576x396 with 1 Axes>"
      ]
     },
     "metadata": {
      "tags": []
     },
     "output_type": "display_data"
    }
   ],
   "source": [
    "\n",
    "# list all data in history\n",
    "print(history.history.keys())\n",
    "# summarize history for accuracy\n",
    "plt.plot(history.history['acc'])\n",
    "plt.plot(history.history['val_acc'])\n",
    "plt.title('model accuracy')\n",
    "plt.ylabel('accuracy')\n",
    "plt.xlabel('epoch')\n",
    "plt.legend(['train', 'test'], loc='upper left')\n",
    "plt.show()\n",
    "\n",
    "# summarize history for loss\n",
    "plt.plot(history.history['loss'])\n",
    "plt.plot(history.history['val_loss'])\n",
    "plt.title('model loss')\n",
    "plt.ylabel('loss')\n",
    "plt.xlabel('epoch')\n",
    "plt.legend(['train', 'test'], loc='upper left')\n",
    "plt.show()"
   ]
  },
  {
   "cell_type": "code",
   "execution_count": 0,
   "metadata": {
    "colab": {},
    "colab_type": "code",
    "collapsed": true,
    "id": "InlKIpy9UC9H"
   },
   "outputs": [],
   "source": [
    "#model.save('cnn2.hdf5')\n",
    "model_json = model.to_json()\n",
    "\n",
    "with open(\"cnn2.json\", \"w\") as json_file:\n",
    "    json_file.write(model_json)\n",
    "\n",
    "# serialize weights to HDF5\n",
    "model.save_weights(\"cnn2.h5\")"
   ]
  },
  {
   "cell_type": "code",
   "execution_count": 0,
   "metadata": {
    "colab": {},
    "colab_type": "code",
    "collapsed": true,
    "id": "QnXHa3dgIZdm"
   },
   "outputs": [],
   "source": []
  },
  {
   "cell_type": "code",
   "execution_count": 0,
   "metadata": {
    "colab": {},
    "colab_type": "code",
    "collapsed": true,
    "id": "hBtdfF9SHud9"
   },
   "outputs": [],
   "source": [
    "\"\"\"\n",
    "from google.colab import files\n",
    "files.download(\"cnn2.h5\")\n",
    "files.download(\"cnn2.json\")\n",
    "\"\"\""
   ]
  },
  {
   "cell_type": "code",
   "execution_count": 0,
   "metadata": {
    "colab": {},
    "colab_type": "code",
    "collapsed": true,
    "id": "adUyYvRUMSho"
   },
   "outputs": [],
   "source": [
    "\n",
    "'''\n",
    "\n",
    "# memory footprint support libraries/code\n",
    "!ln -sf /opt/bin/nvidia-smi /usr/bin/nvidia-smi\n",
    "!pip install gputil\n",
    "!pip install psutil\n",
    "!pip install humanize\n",
    "import psutil\n",
    "import humanize\n",
    "import os\n",
    "import GPUtil as GPU\n",
    "GPUs = GPU.getGPUs()\n",
    "# XXX: only one GPU on Colab and isn’t guaranteed\n",
    "gpu = GPUs[0]\n",
    "def printm():\n",
    " process = psutil.Process(os.getpid())\n",
    " print(\"Gen RAM Free: \" + humanize.naturalsize( psutil.virtual_memory().available ), \" | Proc size: \" + humanize.naturalsize( process.memory_info().rss))\n",
    " print(\"GPU RAM Free: {0:.0f}MB | Used: {1:.0f}MB | Util {2:3.0f}% | Total {3:.0f}MB\".format(gpu.memoryFree, gpu.memoryUsed, gpu.memoryUtil*100, gpu.memoryTotal))\n",
    "printm()\n",
    "'''"
   ]
  },
  {
   "cell_type": "code",
   "execution_count": 6,
   "metadata": {
    "colab": {},
    "colab_type": "code",
    "id": "AjPhw1k-llh9"
   },
   "outputs": [
    {
     "ename": "ValueError",
     "evalue": "cannot reshape array of size 1 into shape (32,32,1)",
     "output_type": "error",
     "traceback": [
      "\u001b[1;31m---------------------------------------------------------------------------\u001b[0m",
      "\u001b[1;31mValueError\u001b[0m                                Traceback (most recent call last)",
      "Cell \u001b[1;32mIn [6], line 10\u001b[0m\n\u001b[0;32m      7\u001b[0m characters \u001b[38;5;241m=\u001b[39m \u001b[38;5;124m'\u001b[39m\u001b[38;5;124m०, १, २, ३, ४, ५, ६, ७, ८, ९, क, ख, ग, घ, ङ, च, छ, ज, झ, ञ, ट, ठ, ड, ढ, ण, त, थ, द, ध,न, प,फ, ब, भ, म, य, र, ल, व, श, ष, स, ह, क्ष, त्र, ज्ञ\u001b[39m\u001b[38;5;124m'\u001b[39m\n\u001b[0;32m      8\u001b[0m characters \u001b[38;5;241m=\u001b[39m characters\u001b[38;5;241m.\u001b[39msplit(\u001b[38;5;124m'\u001b[39m\u001b[38;5;124m,\u001b[39m\u001b[38;5;124m'\u001b[39m)\n\u001b[1;32m---> 10\u001b[0m x \u001b[38;5;241m=\u001b[39m \u001b[43mnp\u001b[49m\u001b[38;5;241;43m.\u001b[39;49m\u001b[43masarray\u001b[49m\u001b[43m(\u001b[49m\u001b[43mna\u001b[49m\u001b[43m,\u001b[49m\u001b[43m \u001b[49m\u001b[43mdtype\u001b[49m\u001b[43m \u001b[49m\u001b[38;5;241;43m=\u001b[39;49m\u001b[43m \u001b[49m\u001b[43mnp\u001b[49m\u001b[38;5;241;43m.\u001b[39;49m\u001b[43mfloat32\u001b[49m\u001b[43m)\u001b[49m\u001b[38;5;241;43m.\u001b[39;49m\u001b[43mreshape\u001b[49m\u001b[43m(\u001b[49m\u001b[38;5;241;43m32\u001b[39;49m\u001b[43m,\u001b[49m\u001b[43m \u001b[49m\u001b[38;5;241;43m32\u001b[39;49m\u001b[43m,\u001b[49m\u001b[38;5;241;43m1\u001b[39;49m\u001b[43m)\u001b[49m \u001b[38;5;241m/\u001b[39m \u001b[38;5;241m255\u001b[39m \n\u001b[0;32m     12\u001b[0m predicted \u001b[38;5;241m=\u001b[39m np\u001b[38;5;241m.\u001b[39margmax(model\u001b[38;5;241m.\u001b[39mpredict(x))\n\u001b[0;32m     13\u001b[0m devanagari_label \u001b[38;5;241m=\u001b[39m characters[predicted]\n",
      "\u001b[1;31mValueError\u001b[0m: cannot reshape array of size 1 into shape (32,32,1)"
     ]
    }
   ],
   "source": [
    "import cv2 \n",
    "\n",
    "na = cv2.imread('ba.jpg', 0)\n",
    "\n",
    "ret2,th2 = cv2.threshold(na,0,255,cv2.THRESH_BINARY+cv2.THRESH_OTSU)\n",
    "\n",
    "characters = '०, १, २, ३, ४, ५, ६, ७, ८, ९, क, ख, ग, घ, ङ, च, छ, ज, झ, ञ, ट, ठ, ड, ढ, ण, त, थ, द, ध,न, प,फ, ब, भ, म, य, र, ल, व, श, ष, स, ह, क्ष, त्र, ज्ञ'\n",
    "characters = characters.split(',')\n",
    "\n",
    "x = np.asarray(na, dtype = np.float32).reshape(1,32, 32,1) / 255 \n",
    "\n",
    "predicted = np.argmax(model.predict(x))\n",
    "devanagari_label = characters[predicted]\n",
    "\n",
    "print('The predicted character is', devanagari_label, '.')\n",
    "print('And actual image is ')\n",
    "\n",
    "plt.imshow(th2)\n",
    "plt.title('Predicted label: ' +  str(predicted))\n",
    "plt.show()\n"
   ]
  },
  {
   "cell_type": "code",
   "execution_count": null,
   "metadata": {},
   "outputs": [],
   "source": []
  }
 ],
 "metadata": {
  "accelerator": "GPU",
  "colab": {
   "name": "cnn2.ipynb",
   "provenance": [],
   "version": "0.3.2"
  },
  "kernelspec": {
   "display_name": "Python 3 (ipykernel)",
   "language": "python",
   "name": "python3"
  },
  "language_info": {
   "codemirror_mode": {
    "name": "ipython",
    "version": 3
   },
   "file_extension": ".py",
   "mimetype": "text/x-python",
   "name": "python",
   "nbconvert_exporter": "python",
   "pygments_lexer": "ipython3",
   "version": "3.9.7"
  }
 },
 "nbformat": 4,
 "nbformat_minor": 1
}
